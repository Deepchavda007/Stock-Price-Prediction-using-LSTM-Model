{
 "cells": [
  {
   "cell_type": "markdown",
   "id": "097150cc",
   "metadata": {},
   "source": [
    "## Import Required Modules"
   ]
  },
  {
   "cell_type": "code",
   "execution_count": 43,
   "id": "83e10712",
   "metadata": {},
   "outputs": [],
   "source": [
    "#Required Modules\n",
    "\n",
    "import numpy as  np\n",
    "import pandas as pd \n",
    "import matplotlib.pyplot as plt\n",
    "from  sklearn.preprocessing import MinMaxScaler"
   ]
  },
  {
   "cell_type": "markdown",
   "id": "b59e6e48",
   "metadata": {},
   "source": [
    "# Exploratory Data Analysis (EDA)\n",
    "\n",
    "### Dataset Link : https://finance.yahoo.com/quote/BMW.DE/history\n",
    "\n",
    "* The data is time series we can bulid RNN-LSTM Model"
   ]
  },
  {
   "cell_type": "code",
   "execution_count": 44,
   "id": "72b1fd02",
   "metadata": {},
   "outputs": [
    {
     "name": "stdout",
     "output_type": "stream",
     "text": [
      "(6601, 7)\n"
     ]
    },
    {
     "data": {
      "text/html": [
       "<div><div id=2e57468d-f020-4484-8144-e18e32220b64 style=\"display:none; background-color:#9D6CFF; color:white; width:200px; height:30px; padding-left:5px; border-radius:4px; flex-direction:row; justify-content:space-around; align-items:center;\" onmouseover=\"this.style.backgroundColor='#BA9BF8'\" onmouseout=\"this.style.backgroundColor='#9D6CFF'\" onclick=\"window.commands?.execute('create-mitosheet-from-dataframe-output');\">See Full Dataframe in Mito</div> <script> if (window.commands?.hasCommand('create-mitosheet-from-dataframe-output')) document.getElementById('2e57468d-f020-4484-8144-e18e32220b64').style.display = 'flex' </script> <table border=\"1\" class=\"dataframe\">\n",
       "  <thead>\n",
       "    <tr style=\"text-align: right;\">\n",
       "      <th></th>\n",
       "      <th>Date</th>\n",
       "      <th>Open</th>\n",
       "      <th>High</th>\n",
       "      <th>Low</th>\n",
       "      <th>Close</th>\n",
       "      <th>Adj Close</th>\n",
       "      <th>Volume</th>\n",
       "    </tr>\n",
       "  </thead>\n",
       "  <tbody>\n",
       "    <tr>\n",
       "      <th>0</th>\n",
       "      <td>1996-11-08</td>\n",
       "      <td>18.209999</td>\n",
       "      <td>18.209999</td>\n",
       "      <td>18.171000</td>\n",
       "      <td>18.171000</td>\n",
       "      <td>9.333748</td>\n",
       "      <td>767000</td>\n",
       "    </tr>\n",
       "    <tr>\n",
       "      <th>1</th>\n",
       "      <td>1996-11-11</td>\n",
       "      <td>18.190001</td>\n",
       "      <td>18.200001</td>\n",
       "      <td>18.082001</td>\n",
       "      <td>18.122000</td>\n",
       "      <td>9.308578</td>\n",
       "      <td>260000</td>\n",
       "    </tr>\n",
       "    <tr>\n",
       "      <th>2</th>\n",
       "      <td>1996-11-12</td>\n",
       "      <td>18.160999</td>\n",
       "      <td>18.327999</td>\n",
       "      <td>18.091999</td>\n",
       "      <td>18.259001</td>\n",
       "      <td>9.378949</td>\n",
       "      <td>1066000</td>\n",
       "    </tr>\n",
       "    <tr>\n",
       "      <th>3</th>\n",
       "      <td>1996-11-13</td>\n",
       "      <td>18.344000</td>\n",
       "      <td>18.344000</td>\n",
       "      <td>18.190001</td>\n",
       "      <td>18.230000</td>\n",
       "      <td>9.364054</td>\n",
       "      <td>793000</td>\n",
       "    </tr>\n",
       "    <tr>\n",
       "      <th>4</th>\n",
       "      <td>1996-11-14</td>\n",
       "      <td>18.205000</td>\n",
       "      <td>18.289000</td>\n",
       "      <td>18.132000</td>\n",
       "      <td>18.289000</td>\n",
       "      <td>9.394361</td>\n",
       "      <td>351000</td>\n",
       "    </tr>\n",
       "  </tbody>\n",
       "</table></div>"
      ],
      "text/plain": [
       "         Date       Open       High        Low      Close  Adj Close   Volume\n",
       "0  1996-11-08  18.209999  18.209999  18.171000  18.171000   9.333748   767000\n",
       "1  1996-11-11  18.190001  18.200001  18.082001  18.122000   9.308578   260000\n",
       "2  1996-11-12  18.160999  18.327999  18.091999  18.259001   9.378949  1066000\n",
       "3  1996-11-13  18.344000  18.344000  18.190001  18.230000   9.364054   793000\n",
       "4  1996-11-14  18.205000  18.289000  18.132000  18.289000   9.394361   351000"
      ]
     },
     "execution_count": 44,
     "metadata": {},
     "output_type": "execute_result"
    }
   ],
   "source": [
    "#Collecting and Reading  csv data Netflix data \n",
    "\n",
    "data = pd.read_csv('BMW.DE.csv')\n",
    "print(data.shape)\n",
    "data.head() # First five value from data"
   ]
  },
  {
   "cell_type": "code",
   "execution_count": 45,
   "id": "2784fea9",
   "metadata": {},
   "outputs": [
    {
     "name": "stdout",
     "output_type": "stream",
     "text": [
      "<class 'pandas.core.frame.DataFrame'>\n",
      "RangeIndex: 6601 entries, 0 to 6600\n",
      "Data columns (total 7 columns):\n",
      " #   Column     Non-Null Count  Dtype  \n",
      "---  ------     --------------  -----  \n",
      " 0   Date       6601 non-null   object \n",
      " 1   Open       6601 non-null   float64\n",
      " 2   High       6601 non-null   float64\n",
      " 3   Low        6601 non-null   float64\n",
      " 4   Close      6601 non-null   float64\n",
      " 5   Adj Close  6601 non-null   float64\n",
      " 6   Volume     6601 non-null   int64  \n",
      "dtypes: float64(5), int64(1), object(1)\n",
      "memory usage: 361.1+ KB\n"
     ]
    }
   ],
   "source": [
    "# General insights of data\n",
    "\n",
    "data.info() "
   ]
  },
  {
   "cell_type": "code",
   "execution_count": 46,
   "id": "7d4f6082",
   "metadata": {},
   "outputs": [
    {
     "data": {
      "text/plain": [
       "Date         0\n",
       "Open         0\n",
       "High         0\n",
       "Low          0\n",
       "Close        0\n",
       "Adj Close    0\n",
       "Volume       0\n",
       "dtype: int64"
      ]
     },
     "execution_count": 46,
     "metadata": {},
     "output_type": "execute_result"
    }
   ],
   "source": [
    "data.isnull().sum() # It returns the count number of missing values in the data set"
   ]
  },
  {
   "cell_type": "markdown",
   "id": "5f6ad9d1",
   "metadata": {},
   "source": [
    "## Spliting Data as Train & Test"
   ]
  },
  {
   "cell_type": "code",
   "execution_count": 47,
   "id": "b53c5b76",
   "metadata": {},
   "outputs": [
    {
     "data": {
      "text/html": [
       "<div><div id=aa0b663f-7822-4049-8aa5-8ed053f893b1 style=\"display:none; background-color:#9D6CFF; color:white; width:200px; height:30px; padding-left:5px; border-radius:4px; flex-direction:row; justify-content:space-around; align-items:center;\" onmouseover=\"this.style.backgroundColor='#BA9BF8'\" onmouseout=\"this.style.backgroundColor='#9D6CFF'\" onclick=\"window.commands?.execute('create-mitosheet-from-dataframe-output');\">See Full Dataframe in Mito</div> <script> if (window.commands?.hasCommand('create-mitosheet-from-dataframe-output')) document.getElementById('aa0b663f-7822-4049-8aa5-8ed053f893b1').style.display = 'flex' </script> <table border=\"1\" class=\"dataframe\">\n",
       "  <thead>\n",
       "    <tr style=\"text-align: right;\">\n",
       "      <th></th>\n",
       "      <th>Date</th>\n",
       "      <th>Open</th>\n",
       "      <th>High</th>\n",
       "      <th>Low</th>\n",
       "      <th>Close</th>\n",
       "      <th>Adj Close</th>\n",
       "      <th>Volume</th>\n",
       "    </tr>\n",
       "  </thead>\n",
       "  <tbody>\n",
       "    <tr>\n",
       "      <th>0</th>\n",
       "      <td>1996-11-08</td>\n",
       "      <td>18.209999</td>\n",
       "      <td>18.209999</td>\n",
       "      <td>18.171000</td>\n",
       "      <td>18.171000</td>\n",
       "      <td>9.333748</td>\n",
       "      <td>767000</td>\n",
       "    </tr>\n",
       "    <tr>\n",
       "      <th>1</th>\n",
       "      <td>1996-11-11</td>\n",
       "      <td>18.190001</td>\n",
       "      <td>18.200001</td>\n",
       "      <td>18.082001</td>\n",
       "      <td>18.122000</td>\n",
       "      <td>9.308578</td>\n",
       "      <td>260000</td>\n",
       "    </tr>\n",
       "    <tr>\n",
       "      <th>2</th>\n",
       "      <td>1996-11-12</td>\n",
       "      <td>18.160999</td>\n",
       "      <td>18.327999</td>\n",
       "      <td>18.091999</td>\n",
       "      <td>18.259001</td>\n",
       "      <td>9.378949</td>\n",
       "      <td>1066000</td>\n",
       "    </tr>\n",
       "    <tr>\n",
       "      <th>3</th>\n",
       "      <td>1996-11-13</td>\n",
       "      <td>18.344000</td>\n",
       "      <td>18.344000</td>\n",
       "      <td>18.190001</td>\n",
       "      <td>18.230000</td>\n",
       "      <td>9.364054</td>\n",
       "      <td>793000</td>\n",
       "    </tr>\n",
       "    <tr>\n",
       "      <th>4</th>\n",
       "      <td>1996-11-14</td>\n",
       "      <td>18.205000</td>\n",
       "      <td>18.289000</td>\n",
       "      <td>18.132000</td>\n",
       "      <td>18.289000</td>\n",
       "      <td>9.394361</td>\n",
       "      <td>351000</td>\n",
       "    </tr>\n",
       "    <tr>\n",
       "      <th>...</th>\n",
       "      <td>...</td>\n",
       "      <td>...</td>\n",
       "      <td>...</td>\n",
       "      <td>...</td>\n",
       "      <td>...</td>\n",
       "      <td>...</td>\n",
       "      <td>...</td>\n",
       "    </tr>\n",
       "    <tr>\n",
       "      <th>5429</th>\n",
       "      <td>2017-12-21</td>\n",
       "      <td>86.930000</td>\n",
       "      <td>88.050003</td>\n",
       "      <td>86.820000</td>\n",
       "      <td>87.839996</td>\n",
       "      <td>67.110451</td>\n",
       "      <td>1500394</td>\n",
       "    </tr>\n",
       "    <tr>\n",
       "      <th>5430</th>\n",
       "      <td>2017-12-22</td>\n",
       "      <td>87.709999</td>\n",
       "      <td>87.709999</td>\n",
       "      <td>86.989998</td>\n",
       "      <td>87.519997</td>\n",
       "      <td>66.865974</td>\n",
       "      <td>954800</td>\n",
       "    </tr>\n",
       "    <tr>\n",
       "      <th>5431</th>\n",
       "      <td>2017-12-27</td>\n",
       "      <td>87.860001</td>\n",
       "      <td>88.220001</td>\n",
       "      <td>87.250000</td>\n",
       "      <td>87.260002</td>\n",
       "      <td>66.667343</td>\n",
       "      <td>593335</td>\n",
       "    </tr>\n",
       "    <tr>\n",
       "      <th>5432</th>\n",
       "      <td>2017-12-28</td>\n",
       "      <td>87.400002</td>\n",
       "      <td>87.400002</td>\n",
       "      <td>86.900002</td>\n",
       "      <td>87.139999</td>\n",
       "      <td>66.575661</td>\n",
       "      <td>750441</td>\n",
       "    </tr>\n",
       "    <tr>\n",
       "      <th>5433</th>\n",
       "      <td>2017-12-29</td>\n",
       "      <td>87.410004</td>\n",
       "      <td>87.410004</td>\n",
       "      <td>86.750000</td>\n",
       "      <td>86.830002</td>\n",
       "      <td>66.338814</td>\n",
       "      <td>726308</td>\n",
       "    </tr>\n",
       "  </tbody>\n",
       "</table></div>"
      ],
      "text/plain": [
       "            Date       Open       High        Low      Close  Adj Close  \\\n",
       "0     1996-11-08  18.209999  18.209999  18.171000  18.171000   9.333748   \n",
       "1     1996-11-11  18.190001  18.200001  18.082001  18.122000   9.308578   \n",
       "2     1996-11-12  18.160999  18.327999  18.091999  18.259001   9.378949   \n",
       "3     1996-11-13  18.344000  18.344000  18.190001  18.230000   9.364054   \n",
       "4     1996-11-14  18.205000  18.289000  18.132000  18.289000   9.394361   \n",
       "...          ...        ...        ...        ...        ...        ...   \n",
       "5429  2017-12-21  86.930000  88.050003  86.820000  87.839996  67.110451   \n",
       "5430  2017-12-22  87.709999  87.709999  86.989998  87.519997  66.865974   \n",
       "5431  2017-12-27  87.860001  88.220001  87.250000  87.260002  66.667343   \n",
       "5432  2017-12-28  87.400002  87.400002  86.900002  87.139999  66.575661   \n",
       "5433  2017-12-29  87.410004  87.410004  86.750000  86.830002  66.338814   \n",
       "\n",
       "       Volume  \n",
       "0      767000  \n",
       "1      260000  \n",
       "2     1066000  \n",
       "3      793000  \n",
       "4      351000  \n",
       "...       ...  \n",
       "5429  1500394  \n",
       "5430   954800  \n",
       "5431   593335  \n",
       "5432   750441  \n",
       "5433   726308  \n",
       "\n",
       "[5434 rows x 7 columns]"
      ]
     },
     "execution_count": 47,
     "metadata": {},
     "output_type": "execute_result"
    }
   ],
   "source": [
    "#Training Data is taken between 1996 to 2018\n",
    "\n",
    "data_training = data[data['Date'] < '2018-01-01'].copy()\n",
    "data_training"
   ]
  },
  {
   "cell_type": "code",
   "execution_count": 48,
   "id": "a79cc2f4",
   "metadata": {},
   "outputs": [
    {
     "data": {
      "text/html": [
       "<div><div id=17bd5ad8-f04c-45fe-898f-ddbf4b3cd45e style=\"display:none; background-color:#9D6CFF; color:white; width:200px; height:30px; padding-left:5px; border-radius:4px; flex-direction:row; justify-content:space-around; align-items:center;\" onmouseover=\"this.style.backgroundColor='#BA9BF8'\" onmouseout=\"this.style.backgroundColor='#9D6CFF'\" onclick=\"window.commands?.execute('create-mitosheet-from-dataframe-output');\">See Full Dataframe in Mito</div> <script> if (window.commands?.hasCommand('create-mitosheet-from-dataframe-output')) document.getElementById('17bd5ad8-f04c-45fe-898f-ddbf4b3cd45e').style.display = 'flex' </script> <table border=\"1\" class=\"dataframe\">\n",
       "  <thead>\n",
       "    <tr style=\"text-align: right;\">\n",
       "      <th></th>\n",
       "      <th>Date</th>\n",
       "      <th>Open</th>\n",
       "      <th>High</th>\n",
       "      <th>Low</th>\n",
       "      <th>Close</th>\n",
       "      <th>Adj Close</th>\n",
       "      <th>Volume</th>\n",
       "    </tr>\n",
       "  </thead>\n",
       "  <tbody>\n",
       "    <tr>\n",
       "      <th>5434</th>\n",
       "      <td>2018-01-02</td>\n",
       "      <td>86.769997</td>\n",
       "      <td>86.820000</td>\n",
       "      <td>83.879997</td>\n",
       "      <td>86.400002</td>\n",
       "      <td>66.010292</td>\n",
       "      <td>2673332</td>\n",
       "    </tr>\n",
       "    <tr>\n",
       "      <th>5435</th>\n",
       "      <td>2018-01-03</td>\n",
       "      <td>87.000000</td>\n",
       "      <td>87.360001</td>\n",
       "      <td>86.459999</td>\n",
       "      <td>86.860001</td>\n",
       "      <td>66.361740</td>\n",
       "      <td>1396762</td>\n",
       "    </tr>\n",
       "    <tr>\n",
       "      <th>5436</th>\n",
       "      <td>2018-01-04</td>\n",
       "      <td>87.800003</td>\n",
       "      <td>88.339996</td>\n",
       "      <td>87.379997</td>\n",
       "      <td>87.480003</td>\n",
       "      <td>66.835419</td>\n",
       "      <td>1872794</td>\n",
       "    </tr>\n",
       "    <tr>\n",
       "      <th>5437</th>\n",
       "      <td>2018-01-05</td>\n",
       "      <td>87.000000</td>\n",
       "      <td>88.739998</td>\n",
       "      <td>87.000000</td>\n",
       "      <td>88.500000</td>\n",
       "      <td>67.614708</td>\n",
       "      <td>1911027</td>\n",
       "    </tr>\n",
       "    <tr>\n",
       "      <th>5438</th>\n",
       "      <td>2018-01-08</td>\n",
       "      <td>89.150002</td>\n",
       "      <td>90.309998</td>\n",
       "      <td>89.110001</td>\n",
       "      <td>89.669998</td>\n",
       "      <td>68.508598</td>\n",
       "      <td>2298840</td>\n",
       "    </tr>\n",
       "    <tr>\n",
       "      <th>...</th>\n",
       "      <td>...</td>\n",
       "      <td>...</td>\n",
       "      <td>...</td>\n",
       "      <td>...</td>\n",
       "      <td>...</td>\n",
       "      <td>...</td>\n",
       "      <td>...</td>\n",
       "    </tr>\n",
       "    <tr>\n",
       "      <th>6596</th>\n",
       "      <td>2022-08-03</td>\n",
       "      <td>78.930000</td>\n",
       "      <td>79.000000</td>\n",
       "      <td>75.459999</td>\n",
       "      <td>76.570000</td>\n",
       "      <td>76.570000</td>\n",
       "      <td>3479341</td>\n",
       "    </tr>\n",
       "    <tr>\n",
       "      <th>6597</th>\n",
       "      <td>2022-08-04</td>\n",
       "      <td>77.339996</td>\n",
       "      <td>78.110001</td>\n",
       "      <td>75.959999</td>\n",
       "      <td>76.269997</td>\n",
       "      <td>76.269997</td>\n",
       "      <td>1768831</td>\n",
       "    </tr>\n",
       "    <tr>\n",
       "      <th>6598</th>\n",
       "      <td>2022-08-05</td>\n",
       "      <td>75.839996</td>\n",
       "      <td>77.239998</td>\n",
       "      <td>75.559998</td>\n",
       "      <td>76.610001</td>\n",
       "      <td>76.610001</td>\n",
       "      <td>1460610</td>\n",
       "    </tr>\n",
       "    <tr>\n",
       "      <th>6599</th>\n",
       "      <td>2022-08-08</td>\n",
       "      <td>77.089996</td>\n",
       "      <td>78.099998</td>\n",
       "      <td>76.910004</td>\n",
       "      <td>78.099998</td>\n",
       "      <td>78.099998</td>\n",
       "      <td>969376</td>\n",
       "    </tr>\n",
       "    <tr>\n",
       "      <th>6600</th>\n",
       "      <td>2022-08-09</td>\n",
       "      <td>78.000000</td>\n",
       "      <td>78.360001</td>\n",
       "      <td>76.930000</td>\n",
       "      <td>77.089996</td>\n",
       "      <td>77.089996</td>\n",
       "      <td>1044979</td>\n",
       "    </tr>\n",
       "  </tbody>\n",
       "</table></div>"
      ],
      "text/plain": [
       "            Date       Open       High        Low      Close  Adj Close  \\\n",
       "5434  2018-01-02  86.769997  86.820000  83.879997  86.400002  66.010292   \n",
       "5435  2018-01-03  87.000000  87.360001  86.459999  86.860001  66.361740   \n",
       "5436  2018-01-04  87.800003  88.339996  87.379997  87.480003  66.835419   \n",
       "5437  2018-01-05  87.000000  88.739998  87.000000  88.500000  67.614708   \n",
       "5438  2018-01-08  89.150002  90.309998  89.110001  89.669998  68.508598   \n",
       "...          ...        ...        ...        ...        ...        ...   \n",
       "6596  2022-08-03  78.930000  79.000000  75.459999  76.570000  76.570000   \n",
       "6597  2022-08-04  77.339996  78.110001  75.959999  76.269997  76.269997   \n",
       "6598  2022-08-05  75.839996  77.239998  75.559998  76.610001  76.610001   \n",
       "6599  2022-08-08  77.089996  78.099998  76.910004  78.099998  78.099998   \n",
       "6600  2022-08-09  78.000000  78.360001  76.930000  77.089996  77.089996   \n",
       "\n",
       "       Volume  \n",
       "5434  2673332  \n",
       "5435  1396762  \n",
       "5436  1872794  \n",
       "5437  1911027  \n",
       "5438  2298840  \n",
       "...       ...  \n",
       "6596  3479341  \n",
       "6597  1768831  \n",
       "6598  1460610  \n",
       "6599   969376  \n",
       "6600  1044979  \n",
       "\n",
       "[1167 rows x 7 columns]"
      ]
     },
     "execution_count": 48,
     "metadata": {},
     "output_type": "execute_result"
    }
   ],
   "source": [
    "#Testing Data is taken between 2018 to 2022\n",
    "\n",
    "data_test = data[data['Date'] >= '2018-01-01'].copy()\n",
    "data_test"
   ]
  },
  {
   "cell_type": "code",
   "execution_count": 49,
   "id": "afd630fa",
   "metadata": {},
   "outputs": [
    {
     "name": "stdout",
     "output_type": "stream",
     "text": [
      "(5434, 5)\n"
     ]
    },
    {
     "data": {
      "text/html": [
       "<div><div id=930d664b-92c8-4cf7-9a7e-8431f6acb647 style=\"display:none; background-color:#9D6CFF; color:white; width:200px; height:30px; padding-left:5px; border-radius:4px; flex-direction:row; justify-content:space-around; align-items:center;\" onmouseover=\"this.style.backgroundColor='#BA9BF8'\" onmouseout=\"this.style.backgroundColor='#9D6CFF'\" onclick=\"window.commands?.execute('create-mitosheet-from-dataframe-output');\">See Full Dataframe in Mito</div> <script> if (window.commands?.hasCommand('create-mitosheet-from-dataframe-output')) document.getElementById('930d664b-92c8-4cf7-9a7e-8431f6acb647').style.display = 'flex' </script> <table border=\"1\" class=\"dataframe\">\n",
       "  <thead>\n",
       "    <tr style=\"text-align: right;\">\n",
       "      <th></th>\n",
       "      <th>Open</th>\n",
       "      <th>High</th>\n",
       "      <th>Low</th>\n",
       "      <th>Close</th>\n",
       "      <th>Volume</th>\n",
       "    </tr>\n",
       "  </thead>\n",
       "  <tbody>\n",
       "    <tr>\n",
       "      <th>0</th>\n",
       "      <td>18.209999</td>\n",
       "      <td>18.209999</td>\n",
       "      <td>18.171000</td>\n",
       "      <td>18.171000</td>\n",
       "      <td>767000</td>\n",
       "    </tr>\n",
       "    <tr>\n",
       "      <th>1</th>\n",
       "      <td>18.190001</td>\n",
       "      <td>18.200001</td>\n",
       "      <td>18.082001</td>\n",
       "      <td>18.122000</td>\n",
       "      <td>260000</td>\n",
       "    </tr>\n",
       "    <tr>\n",
       "      <th>2</th>\n",
       "      <td>18.160999</td>\n",
       "      <td>18.327999</td>\n",
       "      <td>18.091999</td>\n",
       "      <td>18.259001</td>\n",
       "      <td>1066000</td>\n",
       "    </tr>\n",
       "    <tr>\n",
       "      <th>3</th>\n",
       "      <td>18.344000</td>\n",
       "      <td>18.344000</td>\n",
       "      <td>18.190001</td>\n",
       "      <td>18.230000</td>\n",
       "      <td>793000</td>\n",
       "    </tr>\n",
       "    <tr>\n",
       "      <th>4</th>\n",
       "      <td>18.205000</td>\n",
       "      <td>18.289000</td>\n",
       "      <td>18.132000</td>\n",
       "      <td>18.289000</td>\n",
       "      <td>351000</td>\n",
       "    </tr>\n",
       "    <tr>\n",
       "      <th>5</th>\n",
       "      <td>18.308001</td>\n",
       "      <td>18.440001</td>\n",
       "      <td>18.268999</td>\n",
       "      <td>18.438000</td>\n",
       "      <td>624000</td>\n",
       "    </tr>\n",
       "    <tr>\n",
       "      <th>6</th>\n",
       "      <td>18.372999</td>\n",
       "      <td>18.584000</td>\n",
       "      <td>18.365999</td>\n",
       "      <td>18.466000</td>\n",
       "      <td>624000</td>\n",
       "    </tr>\n",
       "    <tr>\n",
       "      <th>7</th>\n",
       "      <td>18.485001</td>\n",
       "      <td>18.544001</td>\n",
       "      <td>18.313999</td>\n",
       "      <td>18.544001</td>\n",
       "      <td>442000</td>\n",
       "    </tr>\n",
       "    <tr>\n",
       "      <th>8</th>\n",
       "      <td>18.485001</td>\n",
       "      <td>18.603001</td>\n",
       "      <td>18.243000</td>\n",
       "      <td>18.250999</td>\n",
       "      <td>546000</td>\n",
       "    </tr>\n",
       "    <tr>\n",
       "      <th>9</th>\n",
       "      <td>18.308001</td>\n",
       "      <td>18.308001</td>\n",
       "      <td>18.194000</td>\n",
       "      <td>18.268999</td>\n",
       "      <td>286000</td>\n",
       "    </tr>\n",
       "  </tbody>\n",
       "</table></div>"
      ],
      "text/plain": [
       "        Open       High        Low      Close   Volume\n",
       "0  18.209999  18.209999  18.171000  18.171000   767000\n",
       "1  18.190001  18.200001  18.082001  18.122000   260000\n",
       "2  18.160999  18.327999  18.091999  18.259001  1066000\n",
       "3  18.344000  18.344000  18.190001  18.230000   793000\n",
       "4  18.205000  18.289000  18.132000  18.289000   351000\n",
       "5  18.308001  18.440001  18.268999  18.438000   624000\n",
       "6  18.372999  18.584000  18.365999  18.466000   624000\n",
       "7  18.485001  18.544001  18.313999  18.544001   442000\n",
       "8  18.485001  18.603001  18.243000  18.250999   546000\n",
       "9  18.308001  18.308001  18.194000  18.268999   286000"
      ]
     },
     "execution_count": 49,
     "metadata": {},
     "output_type": "execute_result"
    }
   ],
   "source": [
    "# We have drop date and Adj Close as it will not affect the digits of stocks.\n",
    "\n",
    "training_data = data_training.drop(['Date', 'Adj Close'],axis = 1)\n",
    "print(training_data.shape)\n",
    "training_data.head(10)"
   ]
  },
  {
   "cell_type": "code",
   "execution_count": 50,
   "id": "8a0d829c",
   "metadata": {},
   "outputs": [
    {
     "data": {
      "text/plain": [
       "array([[0.00877191, 0.00372868, 0.02080498, 0.01071428, 0.02670655],\n",
       "       [0.00858329, 0.0036343 , 0.01995209, 0.01025009, 0.00905307],\n",
       "       [0.00830973, 0.00484257, 0.02004791, 0.01154794, 0.03711758],\n",
       "       ...,\n",
       "       [0.66572344, 0.66460566, 0.68279829, 0.66521412, 0.02065963],\n",
       "       [0.66138464, 0.65686507, 0.67944421, 0.6640773 , 0.02612998],\n",
       "       [0.66147898, 0.65695949, 0.67800672, 0.66114061, 0.02528968]])"
      ]
     },
     "execution_count": 50,
     "metadata": {},
     "output_type": "execute_result"
    }
   ],
   "source": [
    "# We have normalize the data to 0 to 1 range.\n",
    "\n",
    "scaler = MinMaxScaler()\n",
    "training_data = scaler.fit_transform(training_data)\n",
    "training_data"
   ]
  },
  {
   "cell_type": "code",
   "execution_count": 51,
   "id": "8c345d53",
   "metadata": {},
   "outputs": [],
   "source": [
    "# Declaring trainng data\n",
    "\n",
    "X_train = []\n",
    "y_train = []"
   ]
  },
  {
   "cell_type": "code",
   "execution_count": 52,
   "id": "eda043c0",
   "metadata": {},
   "outputs": [
    {
     "data": {
      "text/plain": [
       "5434"
      ]
     },
     "execution_count": 52,
     "metadata": {},
     "output_type": "execute_result"
    }
   ],
   "source": [
    "training_data.shape[0]"
   ]
  },
  {
   "cell_type": "code",
   "execution_count": 53,
   "id": "524ab8a8",
   "metadata": {},
   "outputs": [],
   "source": [
    "time_step = 60\n",
    "\n",
    "for i in range(time_step,training_data.shape[0]):\n",
    "    X_train.append(training_data[i-60:i])\n",
    "    y_train.append(training_data[i, 0])"
   ]
  },
  {
   "cell_type": "markdown",
   "id": "7bf99f3b",
   "metadata": {},
   "source": [
    "### Creating X_train and y_train from Train data\n",
    "\n",
    "* We have train data composed of stock open prices over days.\n",
    "* So, it has 5434 prices corresponding 5434 days.\n",
    "* My aim is to predict the open price of the next day.\n",
    "* I can use a time step 60 days.\n",
    "* I will pick first 60 open prices (0 to 60), 1st 60 price will be in X_train data.\n",
    "* Then predict the price of 61th day; and 61th price will be in y_train data.\n",
    "* Again, i will pick prices from  1 to 61, those will be in X_train data.\n",
    "* Then predict the next days price,  62nd price will be in y_train data."
   ]
  },
  {
   "cell_type": "code",
   "execution_count": 54,
   "id": "9cdf48f2",
   "metadata": {},
   "outputs": [
    {
     "name": "stdout",
     "output_type": "stream",
     "text": [
      "(5374, 60, 5)\n",
      "(5374,)\n"
     ]
    }
   ],
   "source": [
    "# Coverny list data into numpy array\n",
    "\n",
    "X_train, y_train = np.array(X_train), np.array(y_train)\n",
    "print(X_train.shape)\n",
    "print(y_train.shape)"
   ]
  },
  {
   "cell_type": "markdown",
   "id": "89dd7f0b",
   "metadata": {},
   "source": [
    "# Build LSTM model"
   ]
  },
  {
   "cell_type": "code",
   "execution_count": 58,
   "id": "33861d33",
   "metadata": {},
   "outputs": [],
   "source": [
    "#Importing required tensorflow modules\n",
    "\n",
    "from tensorflow.keras import Sequential\n",
    "from tensorflow.keras.layers import Dense, Dropout, LSTM\n"
   ]
  },
  {
   "cell_type": "code",
   "execution_count": 61,
   "id": "23f3f57c",
   "metadata": {},
   "outputs": [],
   "source": [
    "# initializing the LSTM\n",
    "regressor = Sequential()\n",
    "\n",
    "# adding first LSTM layer and dropout regulatization\n",
    "regressor.add(LSTM(units = 60, \n",
    "              activation = \"relu\", \n",
    "              return_sequences = True, \n",
    "              input_shape = (X_train.shape[1],5)))\n",
    "regressor.add(Dropout(0.2))\n",
    "\n",
    "\n",
    "# adding second LSTM layer and dropout regulatization\n",
    "\n",
    "regressor.add(LSTM(units = 80, \n",
    "              activation = \"relu\", \n",
    "              return_sequences = True))\n",
    "regressor.add(Dropout(0.5))\n",
    "\n",
    "# adding third LSTM layer and dropout regulatization\n",
    "\n",
    "regressor.add(LSTM(units = 80, \n",
    "              activation = \"relu\", \n",
    "              return_sequences = True))\n",
    "regressor.add(Dropout(0.5))\n",
    "\n",
    "# adding fourth LSTM layer and dropout regulatization\n",
    "\n",
    "regressor.add(LSTM(units = 120, activation = \"relu\"))\n",
    "regressor.add(Dropout(0.5))\n",
    "\n",
    "# adding the output fc layer\n",
    "\n",
    "regressor.add(Dense(units = 1))"
   ]
  },
  {
   "cell_type": "code",
   "execution_count": 62,
   "id": "2082e359",
   "metadata": {},
   "outputs": [
    {
     "name": "stdout",
     "output_type": "stream",
     "text": [
      "Model: \"sequential_1\"\n",
      "_________________________________________________________________\n",
      " Layer (type)                Output Shape              Param #   \n",
      "=================================================================\n",
      " lstm (LSTM)                 (None, 60, 60)            15840     \n",
      "                                                                 \n",
      " dropout (Dropout)           (None, 60, 60)            0         \n",
      "                                                                 \n",
      " lstm_1 (LSTM)               (None, 60, 80)            45120     \n",
      "                                                                 \n",
      " dropout_1 (Dropout)         (None, 60, 80)            0         \n",
      "                                                                 \n",
      " lstm_2 (LSTM)               (None, 60, 80)            51520     \n",
      "                                                                 \n",
      " dropout_2 (Dropout)         (None, 60, 80)            0         \n",
      "                                                                 \n",
      " lstm_3 (LSTM)               (None, 120)               96480     \n",
      "                                                                 \n",
      " dropout_3 (Dropout)         (None, 120)               0         \n",
      "                                                                 \n",
      " dense (Dense)               (None, 1)                 121       \n",
      "                                                                 \n",
      "=================================================================\n",
      "Total params: 209,081\n",
      "Trainable params: 209,081\n",
      "Non-trainable params: 0\n",
      "_________________________________________________________________\n"
     ]
    }
   ],
   "source": [
    "#Summary of our model\n",
    "\n",
    "regressor.summary()"
   ]
  },
  {
   "cell_type": "code",
   "execution_count": 63,
   "id": "13753566",
   "metadata": {},
   "outputs": [],
   "source": [
    "#Compile Our model\n",
    "\n",
    "regressor.compile(optimizer='RMSprop', loss = 'mean_squared_error')"
   ]
  },
  {
   "cell_type": "code",
   "execution_count": 64,
   "id": "6f84e7b7",
   "metadata": {},
   "outputs": [
    {
     "name": "stdout",
     "output_type": "stream",
     "text": [
      "Epoch 1/30\n",
      "84/84 [==============================] - 28s 260ms/step - loss: 0.0151\n",
      "Epoch 2/30\n",
      "84/84 [==============================] - 22s 265ms/step - loss: 0.0070\n",
      "Epoch 3/30\n",
      "84/84 [==============================] - 25s 302ms/step - loss: 0.0058\n",
      "Epoch 4/30\n",
      "84/84 [==============================] - 55s 653ms/step - loss: 0.0047\n",
      "Epoch 5/30\n",
      "84/84 [==============================] - 38s 452ms/step - loss: 0.0043\n",
      "Epoch 6/30\n",
      "84/84 [==============================] - 42s 495ms/step - loss: 0.0036\n",
      "Epoch 7/30\n",
      "84/84 [==============================] - 37s 439ms/step - loss: 0.0033\n",
      "Epoch 8/30\n",
      "84/84 [==============================] - 37s 438ms/step - loss: 0.0033\n",
      "Epoch 9/30\n",
      "84/84 [==============================] - 35s 410ms/step - loss: 0.0028\n",
      "Epoch 10/30\n",
      "84/84 [==============================] - 35s 414ms/step - loss: 0.0026\n",
      "Epoch 11/30\n",
      "84/84 [==============================] - 35s 411ms/step - loss: 0.0025\n",
      "Epoch 12/30\n",
      "84/84 [==============================] - 34s 409ms/step - loss: 0.0024\n",
      "Epoch 13/30\n",
      "84/84 [==============================] - 35s 419ms/step - loss: 0.0023\n",
      "Epoch 14/30\n",
      "84/84 [==============================] - 35s 417ms/step - loss: 0.0021\n",
      "Epoch 15/30\n",
      "84/84 [==============================] - 35s 417ms/step - loss: 0.0023\n",
      "Epoch 16/30\n",
      "84/84 [==============================] - 35s 410ms/step - loss: 0.0021\n",
      "Epoch 17/30\n",
      "84/84 [==============================] - 35s 411ms/step - loss: 0.0020\n",
      "Epoch 18/30\n",
      "84/84 [==============================] - 35s 412ms/step - loss: 0.0020\n",
      "Epoch 19/30\n",
      "84/84 [==============================] - 34s 405ms/step - loss: 0.0019\n",
      "Epoch 20/30\n",
      "84/84 [==============================] - 35s 414ms/step - loss: 0.0019\n",
      "Epoch 21/30\n",
      "84/84 [==============================] - 36s 430ms/step - loss: 0.0019\n",
      "Epoch 22/30\n",
      "84/84 [==============================] - 35s 417ms/step - loss: 0.0018\n",
      "Epoch 23/30\n",
      "84/84 [==============================] - 37s 439ms/step - loss: 0.0018\n",
      "Epoch 24/30\n",
      "84/84 [==============================] - 35s 413ms/step - loss: 0.0017\n",
      "Epoch 25/30\n",
      "84/84 [==============================] - 35s 420ms/step - loss: 0.0018\n",
      "Epoch 26/30\n",
      "84/84 [==============================] - 35s 411ms/step - loss: 0.0016\n",
      "Epoch 27/30\n",
      "84/84 [==============================] - 35s 414ms/step - loss: 0.0016\n",
      "Epoch 28/30\n",
      "84/84 [==============================] - 35s 417ms/step - loss: 0.0017\n",
      "Epoch 29/30\n",
      "84/84 [==============================] - 36s 424ms/step - loss: 0.0016\n",
      "Epoch 30/30\n",
      "84/84 [==============================] - 36s 429ms/step - loss: 0.0016\n"
     ]
    }
   ],
   "source": [
    "#fitting the LSTM\n",
    "\n",
    "history = regressor.fit(X_train, y_train, epochs = 30, batch_size = 64)"
   ]
  },
  {
   "cell_type": "code",
   "execution_count": 65,
   "id": "0401e5db",
   "metadata": {},
   "outputs": [
    {
     "data": {
      "text/plain": [
       "dict_keys(['loss'])"
      ]
     },
     "execution_count": 65,
     "metadata": {},
     "output_type": "execute_result"
    }
   ],
   "source": [
    "history.history.keys()"
   ]
  },
  {
   "cell_type": "markdown",
   "id": "a24a0b22",
   "metadata": {},
   "source": [
    "## Represent test Data"
   ]
  },
  {
   "cell_type": "code",
   "execution_count": 66,
   "id": "a526b7cb",
   "metadata": {},
   "outputs": [
    {
     "data": {
      "text/html": [
       "<div><div id=1ec50cbb-cd48-4634-b2c5-ab5313885d3e style=\"display:none; background-color:#9D6CFF; color:white; width:200px; height:30px; padding-left:5px; border-radius:4px; flex-direction:row; justify-content:space-around; align-items:center;\" onmouseover=\"this.style.backgroundColor='#BA9BF8'\" onmouseout=\"this.style.backgroundColor='#9D6CFF'\" onclick=\"window.commands?.execute('create-mitosheet-from-dataframe-output');\">See Full Dataframe in Mito</div> <script> if (window.commands?.hasCommand('create-mitosheet-from-dataframe-output')) document.getElementById('1ec50cbb-cd48-4634-b2c5-ab5313885d3e').style.display = 'flex' </script> <table border=\"1\" class=\"dataframe\">\n",
       "  <thead>\n",
       "    <tr style=\"text-align: right;\">\n",
       "      <th></th>\n",
       "      <th>Date</th>\n",
       "      <th>Open</th>\n",
       "      <th>High</th>\n",
       "      <th>Low</th>\n",
       "      <th>Close</th>\n",
       "      <th>Adj Close</th>\n",
       "      <th>Volume</th>\n",
       "    </tr>\n",
       "  </thead>\n",
       "  <tbody>\n",
       "    <tr>\n",
       "      <th>5434</th>\n",
       "      <td>2018-01-02</td>\n",
       "      <td>86.769997</td>\n",
       "      <td>86.820000</td>\n",
       "      <td>83.879997</td>\n",
       "      <td>86.400002</td>\n",
       "      <td>66.010292</td>\n",
       "      <td>2673332</td>\n",
       "    </tr>\n",
       "    <tr>\n",
       "      <th>5435</th>\n",
       "      <td>2018-01-03</td>\n",
       "      <td>87.000000</td>\n",
       "      <td>87.360001</td>\n",
       "      <td>86.459999</td>\n",
       "      <td>86.860001</td>\n",
       "      <td>66.361740</td>\n",
       "      <td>1396762</td>\n",
       "    </tr>\n",
       "    <tr>\n",
       "      <th>5436</th>\n",
       "      <td>2018-01-04</td>\n",
       "      <td>87.800003</td>\n",
       "      <td>88.339996</td>\n",
       "      <td>87.379997</td>\n",
       "      <td>87.480003</td>\n",
       "      <td>66.835419</td>\n",
       "      <td>1872794</td>\n",
       "    </tr>\n",
       "    <tr>\n",
       "      <th>5437</th>\n",
       "      <td>2018-01-05</td>\n",
       "      <td>87.000000</td>\n",
       "      <td>88.739998</td>\n",
       "      <td>87.000000</td>\n",
       "      <td>88.500000</td>\n",
       "      <td>67.614708</td>\n",
       "      <td>1911027</td>\n",
       "    </tr>\n",
       "    <tr>\n",
       "      <th>5438</th>\n",
       "      <td>2018-01-08</td>\n",
       "      <td>89.150002</td>\n",
       "      <td>90.309998</td>\n",
       "      <td>89.110001</td>\n",
       "      <td>89.669998</td>\n",
       "      <td>68.508598</td>\n",
       "      <td>2298840</td>\n",
       "    </tr>\n",
       "  </tbody>\n",
       "</table></div>"
      ],
      "text/plain": [
       "            Date       Open       High        Low      Close  Adj Close  \\\n",
       "5434  2018-01-02  86.769997  86.820000  83.879997  86.400002  66.010292   \n",
       "5435  2018-01-03  87.000000  87.360001  86.459999  86.860001  66.361740   \n",
       "5436  2018-01-04  87.800003  88.339996  87.379997  87.480003  66.835419   \n",
       "5437  2018-01-05  87.000000  88.739998  87.000000  88.500000  67.614708   \n",
       "5438  2018-01-08  89.150002  90.309998  89.110001  89.669998  68.508598   \n",
       "\n",
       "       Volume  \n",
       "5434  2673332  \n",
       "5435  1396762  \n",
       "5436  1872794  \n",
       "5437  1911027  \n",
       "5438  2298840  "
      ]
     },
     "execution_count": 66,
     "metadata": {},
     "output_type": "execute_result"
    }
   ],
   "source": [
    "data_test.head()"
   ]
  },
  {
   "cell_type": "code",
   "execution_count": 67,
   "id": "9be83584",
   "metadata": {},
   "outputs": [],
   "source": [
    "df = data_test.drop(['Date', 'Adj Close'], axis = 1)"
   ]
  },
  {
   "cell_type": "code",
   "execution_count": 69,
   "id": "7e689747",
   "metadata": {},
   "outputs": [
    {
     "data": {
      "text/plain": [
       "array([[0.65544232, 0.65139   , 0.6505031 , 0.6570671 , 0.09308407],\n",
       "       [0.65761175, 0.65648747, 0.6752276 , 0.6614248 , 0.04863455],\n",
       "       [0.66515752, 0.66573838, 0.68404407, 0.66729826, 0.06520974],\n",
       "       ...,\n",
       "       [0.55234856, 0.56095717, 0.57077143, 0.56432362, 0.05085771],\n",
       "       [0.56413878, 0.56907535, 0.58370872, 0.57843879, 0.03375318],\n",
       "       [0.57272211, 0.57152972, 0.58390035, 0.56887075, 0.03638564]])"
      ]
     },
     "execution_count": 69,
     "metadata": {},
     "output_type": "execute_result"
    }
   ],
   "source": [
    "# We have normalize the data to 0 to 1 range.\n",
    "#Normalization\n",
    "\n",
    "inputs = scaler.transform(df)\n",
    "inputs"
   ]
  },
  {
   "cell_type": "code",
   "execution_count": 70,
   "id": "18261559",
   "metadata": {},
   "outputs": [],
   "source": [
    "# Declaring Tesing variable\n",
    "\n",
    "X_test = []\n",
    "y_test = []\n",
    "\n",
    "time_step = 60\n",
    "\n",
    "for i in range(time_step, inputs.shape[0]):\n",
    "    X_test.append(inputs[i-60:i])\n",
    "    y_test.append(inputs[i, 0])"
   ]
  },
  {
   "cell_type": "code",
   "execution_count": 71,
   "id": "4f3c9587",
   "metadata": {},
   "outputs": [
    {
     "name": "stdout",
     "output_type": "stream",
     "text": [
      "(1107, 60, 5)\n",
      "(1107,)\n"
     ]
    }
   ],
   "source": [
    "# Coverny list data into numpy array\n",
    "\n",
    "X_test, y_test = np.array(X_test), np.array(y_test)\n",
    "print(X_test.shape)\n",
    "print(y_test.shape)"
   ]
  },
  {
   "cell_type": "code",
   "execution_count": 78,
   "id": "28b506fd",
   "metadata": {},
   "outputs": [
    {
     "name": "stdout",
     "output_type": "stream",
     "text": [
      "35/35 [==============================] - 2s 46ms/step\n"
     ]
    }
   ],
   "source": [
    "# Storing pediction data \n",
    "\n",
    "y_pred = regressor.predict(X_test)"
   ]
  },
  {
   "cell_type": "code",
   "execution_count": 79,
   "id": "fb9efca5",
   "metadata": {},
   "outputs": [
    {
     "data": {
      "text/plain": [
       "array([9.43218243e-03, 9.43975088e-03, 9.58313387e-03, 9.47328560e-03,\n",
       "       3.48194968e-08])"
      ]
     },
     "execution_count": 79,
     "metadata": {},
     "output_type": "execute_result"
    }
   ],
   "source": [
    "scaler.scale_"
   ]
  },
  {
   "cell_type": "code",
   "execution_count": 82,
   "id": "7fefe84b",
   "metadata": {},
   "outputs": [
    {
     "data": {
      "text/plain": [
       "106.02000199014387"
      ]
     },
     "execution_count": 82,
     "metadata": {},
     "output_type": "execute_result"
    }
   ],
   "source": [
    "# Declare variable renormalizations\n",
    "scale = 1 / 9.43218243e-03\n",
    "scale"
   ]
  },
  {
   "cell_type": "code",
   "execution_count": 83,
   "id": "467eaa14",
   "metadata": {},
   "outputs": [],
   "source": [
    "# Renormalize the data\n",
    "\n",
    "y_pred = y_pred*scale\n",
    "y_test = y_test*scale\n"
   ]
  },
  {
   "cell_type": "code",
   "execution_count": 84,
   "id": "7908d382",
   "metadata": {},
   "outputs": [
    {
     "data": {
      "image/png": "[encoded data removed]",
      "text/plain": [
       "<Figure size 720x504 with 1 Axes>"
      ]
     },
     "metadata": {
      "needs_background": "light"
     },
     "output_type": "display_data"
    }
   ],
   "source": [
    "# Plotting Loss vs Epochs\n",
    "plt.figure(figsize =(10,7))\n",
    "plt.plot(history.history[\"loss\"])\n",
    "plt.xlabel(\"Epochs\")\n",
    "plt.ylabel(\"Losses\")\n",
    "plt.title(\"Simple RNN model, Loss vs Epoch\")\n",
    "plt.show()"
   ]
  },
  {
   "cell_type": "markdown",
   "id": "9f0e4aa2",
   "metadata": {},
   "source": [
    "## Visualization"
   ]
  },
  {
   "cell_type": "code",
   "execution_count": 86,
   "id": "0d3488cb",
   "metadata": {},
   "outputs": [
    {
     "data": {
      "image/png": "[encoded data removed]",
      "text/plain": [
       "<Figure size 1008x360 with 1 Axes>"
      ]
     },
     "metadata": {
      "needs_background": "light"
     },
     "output_type": "display_data"
    }
   ],
   "source": [
    "# BMW Stock Price Prediction Graph\n",
    "\n",
    "plt.figure(figsize=(14, 5))\n",
    "plt.plot(y_test, color = 'green', label = 'Real BMW Stock Price')\n",
    "plt.plot(y_pred, color = 'red', label = 'Predicted BMW Stock Price')\n",
    "plt.title(\"BMW Stock Price Prediction\")\n",
    "plt.legend()\n",
    "plt.show()"
   ]
  }
 ],
 "metadata": {
  "kernelspec": {
   "display_name": "Python 3",
   "language": "python",
   "name": "python3"
  },
  "language_info": {
   "codemirror_mode": {
    "name": "ipython",
    "version": 3
   },
   "file_extension": ".py",
   "mimetype": "text/x-python",
   "name": "python",
   "nbconvert_exporter": "python",
   "pygments_lexer": "ipython3",
   "version": "3.8.8"
  }
 },
 "nbformat": 4,
 "nbformat_minor": 5
}
